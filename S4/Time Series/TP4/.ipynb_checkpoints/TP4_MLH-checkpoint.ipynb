{
 "cells": [
  {
   "cell_type": "code",
   "execution_count": 9,
   "metadata": {},
   "outputs": [],
   "source": [
    "import random \n",
    "import numpy as np\n",
    "import matplotlib.pyplot as plt\n",
    "%matplotlib inline\n"
   ]
  },
  {
   "cell_type": "code",
   "execution_count": 3,
   "metadata": {},
   "outputs": [
    {
     "data": {
      "text/plain": [
       "0.5436976520699389"
      ]
     },
     "execution_count": 3,
     "metadata": {},
     "output_type": "execute_result"
    }
   ],
   "source": [
    "def exp_val(llambda):\n",
    "    return -1.0*numpy.log(1-random.random())/llambda\n"
   ]
  },
  {
   "cell_type": "code",
   "execution_count": 7,
   "metadata": {},
   "outputs": [],
   "source": [
    "def Donnee(taille,l1,l2,k):\n",
    "    return numpy.array([exp_val(l1) for i in range(k)]+[exp_val(l2) for j in range(taille-k)])"
   ]
  },
  {
   "cell_type": "code",
   "execution_count": 54,
   "metadata": {},
   "outputs": [],
   "source": []
  },
  {
   "cell_type": "code",
   "execution_count": 55,
   "metadata": {},
   "outputs": [],
   "source": [
    "def log_vrai(data,k):\n",
    "    n = len(data)\n",
    "    return -k*np.log(np.mean(data[0:k]))-(n-k)*np.log(np.mean(data[k:n]))"
   ]
  },
  {
   "cell_type": "code",
   "execution_count": null,
   "metadata": {
    "scrolled": true
   },
   "outputs": [],
   "source": []
  },
  {
   "cell_type": "code",
   "execution_count": 56,
   "metadata": {},
   "outputs": [],
   "source": [
    "def Estimator_k(data):\n",
    "    LL =[]\n",
    "    for k in range(4,len(data)-3):\n",
    "        LL.append(log_vrai(data,k))\n",
    "    return int(4+np.argmax(LL))"
   ]
  },
  {
   "cell_type": "code",
   "execution_count": 100,
   "metadata": {},
   "outputs": [
    {
     "data": {
      "text/plain": [
       "896"
      ]
     },
     "execution_count": 100,
     "metadata": {},
     "output_type": "execute_result"
    }
   ],
   "source": [
    "data = Donnee(1000,1,2,900)\n",
    "Estimator_k(data)"
   ]
  },
  {
   "cell_type": "code",
   "execution_count": 108,
   "metadata": {},
   "outputs": [],
   "source": [
    "def graphe_modele(data):\n",
    "    LL = []\n",
    "    for k in range(4,len(data)-3):\n",
    "        LL.append(log_vrai(data,k))\n",
    "    plt.plot(LL)\n",
    "    k_estim = Estimator_k(data)\n",
    "    plt.title(\"$\\hat{k}=%d$\"%(k_estim))\n",
    "    plt.show()\n",
    "    xbark = np.mean(data[:k_estim])\n",
    "    xbaretk = np.mean(data[k_estim:])\n",
    "    return 1.0/xbark , 1.0/xbaretk"
   ]
  },
  {
   "cell_type": "code",
   "execution_count": 109,
   "metadata": {},
   "outputs": [
    {
     "data": {
      "image/png": "[encoded data removed]",
      "text/plain": [
       "<matplotlib.figure.Figure at 0x110fe7978>"
      ]
     },
     "metadata": {},
     "output_type": "display_data"
    },
    {
     "data": {
      "text/plain": [
       "(0.9730845433921284, 2.0045129014662604)"
      ]
     },
     "execution_count": 109,
     "metadata": {},
     "output_type": "execute_result"
    }
   ],
   "source": [
    "graphe_modele(data)\n"
   ]
  },
  {
   "cell_type": "code",
   "execution_count": 17,
   "metadata": {},
   "outputs": [],
   "source": [
    "import numpy \n",
    "\n",
    "def erreur(X,Y,k):\n",
    "    meanX1 = sum(numpy.array([X[i] for i in range(k)]))/k\n",
    "    meanY1 = sum(numpy.array([Y[i] for i in range(k)]))/k\n",
    "    meanX2 = sum(numpy.array([X[i] for i in range(k+1,len(X))]))/(len(X)-k)\n",
    "    meanY2 = sum(numpy.array([Y[i] for i in range(k+1,len(X))]))/(len(X)-k)\n",
    "    \n",
    "    A1 = sum(numpy.array([(X[i]-meanX1)*(Y[i]-meanY1) for i in range(k)]))/sum(numpy.array([(X[i]-meanX1)*(X[i]-meanX1) for i in range(k)]))\n",
    "    B1 = meanY1-A1*meanX1\n",
    "    \n",
    "    A2 = sum(numpy.array([(X[i]-meanX2)*(Y[i]-meanY1) for i in range(k+1,len(X))]))/sum(numpy.array([(X[i]-meanX1)*(X[i]-meanX2)for i in range(k+1,len(X))]))\n",
    "    B2 = meanY2-A2*meanX2\n",
    "     \n",
    "    e1 = sum(numpy.array([Y[i]-(B1+A1*X[i]) for i in range(k)]))\n",
    "    e2 = sum(numpy.array([Y[i]-(B1+A1*X[i]) for i in range(k+1,len(Y))]))\n",
    "    return e1+e2"
   ]
  },
  {
   "cell_type": "code",
   "execution_count": 19,
   "metadata": {},
   "outputs": [
    {
     "data": {
      "text/plain": [
       "array([ 4, 13])"
      ]
     },
     "execution_count": 19,
     "metadata": {},
     "output_type": "execute_result"
    }
   ],
   "source": [
    "X = numpy.array([4,13,5,2,6,8,1,12,17,20,15,11,3,14,16,10,7,19,18,9])\n",
    "Y = numpy.array([3.473,11.555,5.714,5.710,6.046,7.650,3.140,10.312,13.353,17.197,13.036,8.264,7.612,11.802,12.551,10.296,10.014,15.472,15.650,9.871])\n",
    "\n",
    "X"
   ]
  },
  {
   "cell_type": "code",
   "execution_count": null,
   "metadata": {},
   "outputs": [],
   "source": []
  }
 ],
 "metadata": {
  "kernelspec": {
   "display_name": "Python 3",
   "language": "python",
   "name": "python3"
  },
  "language_info": {
   "codemirror_mode": {
    "name": "ipython",
    "version": 3
   },
   "file_extension": ".py",
   "mimetype": "text/x-python",
   "name": "python",
   "nbconvert_exporter": "python",
   "pygments_lexer": "ipython3",
   "version": "3.6.4"
  }
 },
 "nbformat": 4,
 "nbformat_minor": 2
}

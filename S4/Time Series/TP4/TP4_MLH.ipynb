{
 "cells": [
  {
   "cell_type": "code",
   "execution_count": 34,
   "metadata": {},
   "outputs": [],
   "source": [
    "import random \n",
    "import numpy as np\n",
    "import matplotlib.pyplot as plt\n",
    "%matplotlib inline\n"
   ]
  },
  {
   "cell_type": "code",
   "execution_count": 3,
   "metadata": {},
   "outputs": [
    {
     "data": {
      "text/plain": [
       "0.5436976520699389"
      ]
     },
     "execution_count": 3,
     "metadata": {},
     "output_type": "execute_result"
    }
   ],
   "source": [
    "def exp_val(llambda):\n",
    "    return -1.0*numpy.log(1-random.random())/llambda\n"
   ]
  },
  {
   "cell_type": "code",
   "execution_count": 7,
   "metadata": {},
   "outputs": [],
   "source": [
    "def Donnee(taille,l1,l2,k):\n",
    "    return numpy.array([exp_val(l1) for i in range(k)]+[exp_val(l2) for j in range(taille-k)])"
   ]
  },
  {
   "cell_type": "code",
   "execution_count": 54,
   "metadata": {},
   "outputs": [],
   "source": []
  },
  {
   "cell_type": "code",
   "execution_count": 55,
   "metadata": {},
   "outputs": [],
   "source": [
    "def log_vrai(data,k):\n",
    "    n = len(data)\n",
    "    return -k*np.log(np.mean(data[0:k]))-(n-k)*np.log(np.mean(data[k:n]))"
   ]
  },
  {
   "cell_type": "code",
   "execution_count": null,
   "metadata": {
    "scrolled": true
   },
   "outputs": [],
   "source": []
  },
  {
   "cell_type": "code",
   "execution_count": 56,
   "metadata": {},
   "outputs": [],
   "source": [
    "def Estimator_k(data):\n",
    "    LL =[]\n",
    "    for k in range(4,len(data)-3):\n",
    "        LL.append(log_vrai(data,k))\n",
    "    return int(4+np.argmax(LL))"
   ]
  },
  {
   "cell_type": "code",
   "execution_count": 100,
   "metadata": {},
   "outputs": [
    {
     "data": {
      "text/plain": [
       "896"
      ]
     },
     "execution_count": 100,
     "metadata": {},
     "output_type": "execute_result"
    }
   ],
   "source": [
    "data = Donnee(1000,1,2,900)\n",
    "Estimator_k(data)"
   ]
  },
  {
   "cell_type": "code",
   "execution_count": 108,
   "metadata": {},
   "outputs": [],
   "source": [
    "def graphe_modele(data):\n",
    "    LL = []\n",
    "    for k in range(4,len(data)-3):\n",
    "        LL.append(log_vrai(data,k))\n",
    "    plt.plot(LL)\n",
    "    k_estim = Estimator_k(data)\n",
    "    plt.title(\"$\\hat{k}=%d$\"%(k_estim))\n",
    "    plt.show()\n",
    "    xbark = np.mean(data[:k_estim])\n",
    "    xbaretk = np.mean(data[k_estim:])\n",
    "    return 1.0/xbark , 1.0/xbaretk"
   ]
  },
  {
   "cell_type": "code",
   "execution_count": 109,
   "metadata": {},
   "outputs": [
    {
     "data": {
      "image/png": "[encoded data removed]",
      "text/plain": [
       "<matplotlib.figure.Figure at 0x110fe7978>"
      ]
     },
     "metadata": {},
     "output_type": "display_data"
    },
    {
     "data": {
      "text/plain": [
       "(0.9730845433921284, 2.0045129014662604)"
      ]
     },
     "execution_count": 109,
     "metadata": {},
     "output_type": "execute_result"
    }
   ],
   "source": [
    "graphe_modele(data)\n"
   ]
  },
  {
   "cell_type": "code",
   "execution_count": 77,
   "metadata": {},
   "outputs": [],
   "source": [
    "import numpy \n",
    "\n",
    "def erreur(X,Y,k):\n",
    "    meanX1 = sum(numpy.array([X[i] for i in range(k)]))/k\n",
    "    meanY1 = sum(numpy.array([Y[i] for i in range(k)]))/k\n",
    "    meanX2 = sum(numpy.array([X[i] for i in range(k,len(X))]))/(len(X)-k)\n",
    "    meanY2 = sum(numpy.array([Y[i] for i in range(k,len(X))]))/(len(X)-k)\n",
    "    \n",
    "    A1 = sum(numpy.array([(X[i]-meanX1)*(Y[i]-meanY1) for i in range(k)]))/sum(numpy.array([(X[i]-meanX1)*(X[i]-meanX1) for i in range(k)]))\n",
    "    B1 = meanY1-A1*meanX1\n",
    "    \n",
    "    A2 = sum(numpy.array([(X[i]-meanX2)*(Y[i]-meanY2) for i in range(k,len(X))]))/sum(numpy.array([(X[i]-meanX2)*(X[i]-meanX2) for i in range(k,len(X))]))\n",
    "    B2 = meanY2-A2*meanX2\n",
    "     \n",
    "    e1 = sum(numpy.array([(Y[i]-(B1+A1*X[i]))*(Y[i]-(B1+A1*X[i])) for i in range(k)]))\n",
    "    e2 = sum(numpy.array([(Y[i]-(B2+A2*X[i]))*(Y[i]-(B2+A2*X[i])) for i in range(k,len(X))]))\n",
    "    return e1+e2"
   ]
  },
  {
   "cell_type": "code",
   "execution_count": 78,
   "metadata": {},
   "outputs": [],
   "source": [
    "X = numpy.array([4,13,5,2,6,8,1,12,17,20,15,11,3,14,16,10,7,19,18,9])\n",
    "Y = numpy.array([3.473,11.555,5.714,5.710,6.046,7.650,3.140,10.312,13.353,17.197,13.036,8.264,7.612,11.802,12.551,10.296,10.014,15.472,15.650,9.871])\n"
   ]
  },
  {
   "cell_type": "code",
   "execution_count": 79,
   "metadata": {},
   "outputs": [],
   "source": [
    "def Estimator_k(X,Y):\n",
    "    LL =[]\n",
    "    for k in range(4,len(X)-3):\n",
    "        LL.append(erreur(X,Y,k))\n",
    "    return int(4+np.argmin(LL))"
   ]
  },
  {
   "cell_type": "code",
   "execution_count": 80,
   "metadata": {},
   "outputs": [
    {
     "data": {
      "text/plain": [
       "12"
      ]
     },
     "execution_count": 80,
     "metadata": {},
     "output_type": "execute_result"
    }
   ],
   "source": [
    "Estimator_k(X,Y)"
   ]
  },
  {
   "cell_type": "code",
   "execution_count": 130,
   "metadata": {},
   "outputs": [],
   "source": [
    "def graphe_modele(X,Y):\n",
    "    LL = []\n",
    "    for k_ in range(4,len(X)-3):\n",
    "        LL.append(erreur(X,Y,k_))\n",
    "    plt.plot(LL)\n",
    "    k = Estimator_k(X,Y)\n",
    "    plt.title(\"$\\hat{k}=%d$\"%(k))\n",
    "    plt.show()\n",
    "    \n",
    "    meanX1 = sum(numpy.array([X[i] for i in range(k)]))/k\n",
    "    meanY1 = sum(numpy.array([Y[i] for i in range(k)]))/k\n",
    "    meanX2 = sum(numpy.array([X[i] for i in range(k+1,len(X))]))/(len(X)-k)\n",
    "    meanY2 = sum(numpy.array([Y[i] for i in range(k+1,len(X))]))/(len(X)-k)\n",
    "    \n",
    "    A1 = sum(numpy.array([(X[i]-meanX1)*(Y[i]-meanY1) for i in range(k)]))/sum(numpy.array([(X[i]-meanX1)*(X[i]-meanX1) for i in range(k)]))\n",
    "    B1 = meanY1-A1*meanX1\n",
    "    \n",
    "    A2 = sum(numpy.array([(X[i]-meanX2)*(Y[i]-meanY1) for i in range(k,len(X))]))/sum(numpy.array([(X[i]-meanX1)*(X[i]-meanX2)for i in range(k,len(X))]))\n",
    "    B2 = meanY2-A2*meanX2\n",
    "    \n",
    "    return B1,A1,B2,A2"
   ]
  },
  {
   "cell_type": "code",
   "execution_count": 131,
   "metadata": {},
   "outputs": [
    {
     "data": {
      "image/png": "[encoded data removed]",
      "text/plain": [
       "<matplotlib.figure.Figure at 0x11d0eb898>"
      ]
     },
     "metadata": {},
     "output_type": "display_data"
    }
   ],
   "source": [
    "paremetre = graphe_modele(X,Y)\n",
    "k_opti=Estimator_k(X,Y)\n",
    "B1 = paremetre[0]\n",
    "A1 = paremetre[1]\n",
    "B2 = paremetre[2]\n",
    "A2 = paremetre[3]\n",
    "\n",
    "def graphe_model(B1,A1,B2,A2,k):\n",
    "    X = numpy.array([i for i in range(20)])\n",
    "    Y1= [B1 + A1*X[i] for i in range(k)]\n",
    "    Y2= [B2 + A2*X[i] for i in range(k,len(X))]\n",
    "    Y = Y1+Y2\n",
    "    plt.scatter(X, Y, alpha=0.6)"
   ]
  },
  {
   "cell_type": "code",
   "execution_count": 129,
   "metadata": {},
   "outputs": [
    {
     "data": {
      "image/png": "[encoded data removed]",
      "text/plain": [
       "<matplotlib.figure.Figure at 0x11d9f30f0>"
      ]
     },
     "metadata": {},
     "output_type": "display_data"
    }
   ],
   "source": [
    "graphe_model(B1,A1,B2,A2,k_opti)"
   ]
  },
  {
   "cell_type": "code",
   "execution_count": 133,
   "metadata": {},
   "outputs": [
    {
     "data": {
      "image/png": "[encoded data removed]",
      "text/plain": [
       "<matplotlib.figure.Figure at 0x11d46c5c0>"
      ]
     },
     "metadata": {},
     "output_type": "display_data"
    },
    {
     "data": {
      "text/plain": [
       "(2.2214744525547445, 0.6911605839416058, 4.889880129589632, 0.5003974082073434)"
      ]
     },
     "execution_count": 133,
     "metadata": {},
     "output_type": "execute_result"
    }
   ],
   "source": [
    "graphe_modele(X,Y)"
   ]
  },
  {
   "cell_type": "code",
   "execution_count": 116,
   "metadata": {},
   "outputs": [
    {
     "data": {
      "text/plain": [
       "13"
      ]
     },
     "execution_count": 116,
     "metadata": {},
     "output_type": "execute_result"
    }
   ],
   "source": []
  },
  {
   "cell_type": "code",
   "execution_count": 119,
   "metadata": {},
   "outputs": [
    {
     "data": {
      "image/png": "[encoded data removed]",
      "text/plain": [
       "<matplotlib.figure.Figure at 0x11d291e80>"
      ]
     },
     "metadata": {},
     "output_type": "display_data"
    },
    {
     "data": {
      "text/plain": [
       "(2.2214744525547445, 0.6911605839416058, 4.889880129589632, 0.5003974082073434)"
      ]
     },
     "execution_count": 119,
     "metadata": {},
     "output_type": "execute_result"
    }
   ],
   "source": [
    "graphe_modele(X,Y)"
   ]
  },
  {
   "cell_type": "code",
   "execution_count": null,
   "metadata": {},
   "outputs": [],
   "source": []
  }
 ],
 "metadata": {
  "kernelspec": {
   "display_name": "Python 3",
   "language": "python",
   "name": "python3"
  },
  "language_info": {
   "codemirror_mode": {
    "name": "ipython",
    "version": 3
   },
   "file_extension": ".py",
   "mimetype": "text/x-python",
   "name": "python",
   "nbconvert_exporter": "python",
   "pygments_lexer": "ipython3",
   "version": "3.6.4"
  }
 },
 "nbformat": 4,
 "nbformat_minor": 2
}

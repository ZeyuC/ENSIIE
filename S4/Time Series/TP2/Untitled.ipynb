{
 "cells": [
  {
   "cell_type": "code",
   "execution_count": 1,
   "metadata": {},
   "outputs": [],
   "source": [
    "import numpy"
   ]
  },
  {
   "cell_type": "code",
   "execution_count": 87,
   "metadata": {},
   "outputs": [],
   "source": [
    "def vecteur_puissance_k(T,k=1):\n",
    "    \n",
    "    V_k=[]\n",
    "    for d in range(1,k+1):\n",
    "        V_k.append(numpy.array([(i+1)**d for i in range(T)]))\n",
    "    \n",
    "    M=numpy.vstack((numpy.ones(T),[V_k[d] for d in range(k)])).T\n",
    "    \n",
    "    return M"
   ]
  },
  {
   "cell_type": "code",
   "execution_count": 88,
   "metadata": {},
   "outputs": [
    {
     "data": {
      "text/plain": [
       "array([[  1.,   1.,   1.,   1.],\n",
       "       [  1.,   2.,   4.,   8.],\n",
       "       [  1.,   3.,   9.,  27.],\n",
       "       [  1.,   4.,  16.,  64.],\n",
       "       [  1.,   5.,  25., 125.],\n",
       "       [  1.,   6.,  36., 216.]])"
      ]
     },
     "execution_count": 88,
     "metadata": {},
     "output_type": "execute_result"
    }
   ],
   "source": [
    "vecteur_puissance_k(T=6,k=3)"
   ]
  },
  {
   "cell_type": "code",
   "execution_count": 54,
   "metadata": {},
   "outputs": [],
   "source": [
    "def Polynome_Estimation(data,odre=1):\n",
    "    T=len(data)\n",
    "    M=vecteur_puissance_k(T,k=odre)\n",
    "    \n",
    "    S1=numpy.matmul(M.T,M)\n",
    "    S2=numpy.linalg.inv(S1)\n",
    "    S3=numpy.matmul(data.T,M)\n",
    "    Estimateurs=numpy.matmul(S2,S3)\n",
    "    \n",
    "    return Estimateurs"
   ]
  },
  {
   "cell_type": "code",
   "execution_count": 75,
   "metadata": {},
   "outputs": [],
   "source": [
    "def valeur_polynome(data,coefficients):\n",
    "    data=numpy.array(data)\n",
    "    k=len(coefficients)\n",
    "    P_X=numpy.array(list(coefficients[j]*(data**j) for j in range(k)))\n",
    "    return sum(P_X)"
   ]
  },
  {
   "cell_type": "code",
   "execution_count": 76,
   "metadata": {
    "scrolled": true
   },
   "outputs": [
    {
     "name": "stdout",
     "output_type": "stream",
     "text": [
      "[ 2 29 67 29]\n"
     ]
    }
   ],
   "source": [
    "dx=[1,4,6,4]\n",
    "coeff=[1,-1,2]\n",
    "SS=valeur_polynome(dx,coeff)\n",
    "print(SS)"
   ]
  },
  {
   "cell_type": "code",
   "execution_count": 80,
   "metadata": {},
   "outputs": [],
   "source": [
    "def Polynome_ajustement(data,degre=1):\n",
    "    %matplotlib inline\n",
    "    import matplotlib.pyplot as plt\n",
    "    \n",
    "    T=len(data)\n",
    "    \n",
    "    # récupérer l'estimateur\n",
    "    theta=Polynome_Estimation(data,odre=degre)\n",
    "\n",
    "    \n",
    "    ## variance d'erreurs\n",
    "    MM=vecteur_puissance_k(len(data),k=degre)\n",
    "    E=data-numpy.dot(MM , theta)\n",
    "    \n",
    "    variance_erreurs=numpy.dot(E,E)/(1.0*(len(data)-len(theta)+1))\n",
    "    print(\"variance_erreurs=%.4f\"%variance_erreurs)\n",
    "    return variance_erreurs"
   ]
  },
  {
   "cell_type": "code",
   "execution_count": 91,
   "metadata": {},
   "outputs": [
    {
     "data": {
      "text/plain": [
       "array([[1.000e+00, 1.000e+00, 1.000e+00, 1.000e+00],\n",
       "       [1.000e+00, 2.000e+00, 4.000e+00, 8.000e+00],\n",
       "       [1.000e+00, 3.000e+00, 9.000e+00, 2.700e+01],\n",
       "       [1.000e+00, 4.000e+00, 1.600e+01, 6.400e+01],\n",
       "       [1.000e+00, 5.000e+00, 2.500e+01, 1.250e+02],\n",
       "       [1.000e+00, 6.000e+00, 3.600e+01, 2.160e+02],\n",
       "       [1.000e+00, 7.000e+00, 4.900e+01, 3.430e+02],\n",
       "       [1.000e+00, 8.000e+00, 6.400e+01, 5.120e+02],\n",
       "       [1.000e+00, 9.000e+00, 8.100e+01, 7.290e+02],\n",
       "       [1.000e+00, 1.000e+01, 1.000e+02, 1.000e+03],\n",
       "       [1.000e+00, 1.100e+01, 1.210e+02, 1.331e+03],\n",
       "       [1.000e+00, 1.200e+01, 1.440e+02, 1.728e+03],\n",
       "       [1.000e+00, 1.300e+01, 1.690e+02, 2.197e+03],\n",
       "       [1.000e+00, 1.400e+01, 1.960e+02, 2.744e+03],\n",
       "       [1.000e+00, 1.500e+01, 2.250e+02, 3.375e+03],\n",
       "       [1.000e+00, 1.600e+01, 2.560e+02, 4.096e+03],\n",
       "       [1.000e+00, 1.700e+01, 2.890e+02, 4.913e+03],\n",
       "       [1.000e+00, 1.800e+01, 3.240e+02, 5.832e+03],\n",
       "       [1.000e+00, 1.900e+01, 3.610e+02, 6.859e+03],\n",
       "       [1.000e+00, 2.000e+01, 4.000e+02, 8.000e+03]])"
      ]
     },
     "execution_count": 91,
     "metadata": {},
     "output_type": "execute_result"
    }
   ],
   "source": [
    "h=lambda x : 2+3*x-3*x**2+x**3\n",
    "donnees=numpy.array([h(x)+numpy.random.normal(0,2) for x in range(1,21)])\n",
    "\n",
    "len(donnees)\n",
    "vecteur_puissance_k(20,k=3)"
   ]
  },
  {
   "cell_type": "code",
   "execution_count": 84,
   "metadata": {},
   "outputs": [
    {
     "name": "stdout",
     "output_type": "stream",
     "text": [
      "variance_erreurs=4.1701\n"
     ]
    },
    {
     "data": {
      "text/plain": [
       "4.170089698512875"
      ]
     },
     "execution_count": 84,
     "metadata": {},
     "output_type": "execute_result"
    }
   ],
   "source": [
    "Polynome_ajustement(donnees,degre=3)\n",
    "\n"
   ]
  },
  {
   "cell_type": "code",
   "execution_count": null,
   "metadata": {},
   "outputs": [],
   "source": []
  },
  {
   "cell_type": "code",
   "execution_count": 142,
   "metadata": {},
   "outputs": [],
   "source": [
    "import random\n",
    "import numpy\n",
    "import scipy.optimize as opt\n",
    "def tendance_puissance(data):\n",
    "    data = numpy.array(data)\n",
    "    def objectif (alpha,t):\n",
    "        return data-alpha[0]-alpha[1]*alpha[2]**t #diff element par element\n",
    "    a0=numpy.array([random.random() for _ in range(3)])\n",
    "    tt=[i for i in range(1,len(data)+1)]\n",
    "    r=opt.leastsq(objectif,a0,args=(tt))[0] ##Parce que cette fonction retourne plusieurs valeurs [result, eval, error]\n",
    "    return r\n"
   ]
  },
  {
   "cell_type": "code",
   "execution_count": 286,
   "metadata": {},
   "outputs": [],
   "source": [
    "import random\n",
    "import numpy\n",
    "import scipy.optimize as opt\n",
    "def tendance_polynomiale(data):\n",
    "    data = numpy.array(data)\n",
    "    def objectif (alpha,t):\n",
    "        return data-alpha[0]-alpha[1]*t#diff element par element\n",
    "    a0=numpy.array([random.random() for _ in range(3)])\n",
    "    tt=[i for i in range(1,len(data)+1)]\n",
    "    tt = numpy.array(tt)\n",
    "    r=opt.leastsq(objectif,a0,args=(tt))[0] ##Parce que cette fonction retourne plusieurs valeurs [result, eval, error]\n",
    "    return r\n"
   ]
  },
  {
   "cell_type": "code",
   "execution_count": 1,
   "metadata": {},
   "outputs": [
    {
     "ename": "NameError",
     "evalue": "name 'numpy' is not defined",
     "output_type": "error",
     "traceback": [
      "\u001b[0;31m---------------------------------------------------------------------------\u001b[0m",
      "\u001b[0;31mNameError\u001b[0m                                 Traceback (most recent call last)",
      "\u001b[0;32m<ipython-input-1-3fff3a626cb0>\u001b[0m in \u001b[0;36m<module>\u001b[0;34m()\u001b[0m\n\u001b[1;32m      1\u001b[0m \u001b[0mN\u001b[0m \u001b[0;34m=\u001b[0m \u001b[0;36m10000\u001b[0m\u001b[0;34m\u001b[0m\u001b[0m\n\u001b[0;32m----> 2\u001b[0;31m \u001b[0mer\u001b[0m\u001b[0;34m=\u001b[0m \u001b[0mnumpy\u001b[0m\u001b[0;34m.\u001b[0m\u001b[0mrandom\u001b[0m\u001b[0;34m.\u001b[0m\u001b[0mnormal\u001b[0m\u001b[0;34m(\u001b[0m\u001b[0;36m0\u001b[0m\u001b[0;34m,\u001b[0m\u001b[0;36m2\u001b[0m\u001b[0;34m,\u001b[0m\u001b[0mN\u001b[0m\u001b[0;34m)\u001b[0m\u001b[0;34m\u001b[0m\u001b[0m\n\u001b[0m\u001b[1;32m      3\u001b[0m \u001b[0;34m\u001b[0m\u001b[0m\n\u001b[1;32m      4\u001b[0m \u001b[0mdata\u001b[0m \u001b[0;34m=\u001b[0m \u001b[0;34m[\u001b[0m\u001b[0;34m]\u001b[0m\u001b[0;34m\u001b[0m\u001b[0m\n\u001b[1;32m      5\u001b[0m \u001b[0;32mimport\u001b[0m \u001b[0mnumpy\u001b[0m\u001b[0;34m\u001b[0m\u001b[0m\n",
      "\u001b[0;31mNameError\u001b[0m: name 'numpy' is not defined"
     ]
    }
   ],
   "source": [
    "N = 10000\n",
    "er= numpy.random.normal(0,2,N)\n",
    "\n",
    "data = []\n",
    "import numpy\n",
    "for t in range(N):\n",
    "    data.append(1+2*t+3*t**2+er[t])\n",
    "    \n",
    "tendance_logisitque(data)\n",
    "\n"
   ]
  },
  {
   "cell_type": "code",
   "execution_count": null,
   "metadata": {},
   "outputs": [],
   "source": []
  },
  {
   "cell_type": "code",
   "execution_count": null,
   "metadata": {},
   "outputs": [],
   "source": []
  },
  {
   "cell_type": "code",
   "execution_count": null,
   "metadata": {},
   "outputs": [],
   "source": []
  }
 ],
 "metadata": {
  "kernelspec": {
   "display_name": "Python 3",
   "language": "python",
   "name": "python3"
  },
  "language_info": {
   "codemirror_mode": {
    "name": "ipython",
    "version": 3
   },
   "file_extension": ".py",
   "mimetype": "text/x-python",
   "name": "python",
   "nbconvert_exporter": "python",
   "pygments_lexer": "ipython3",
   "version": "3.6.4"
  }
 },
 "nbformat": 4,
 "nbformat_minor": 2
}
